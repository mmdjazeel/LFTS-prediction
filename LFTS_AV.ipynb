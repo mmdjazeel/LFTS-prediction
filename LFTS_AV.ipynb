{
 "cells": [
  {
   "cell_type": "code",
   "execution_count": 1,
   "metadata": {},
   "outputs": [],
   "source": [
    "import pandas as pd\n",
    "import numpy as np\n",
    "import matplotlib.pyplot as plt\n",
    "import re\n",
    "from sklearn.model_selection import train_test_split\n",
    "from sklearn.ensemble import GradientBoostingClassifier, RandomForestClassifier, ExtraTreesClassifier\n",
    "from sklearn.linear_model import LogisticRegression\n",
    "from sklearn.svm import SVC\n",
    "from sklearn.preprocessing import LabelEncoder, StandardScaler, OneHotEncoder\n",
    "from sklearn.metrics import accuracy_score, f1_score, confusion_matrix\n",
    "from catboost import CatBoostClassifier\n",
    "import datetime"
   ]
  },
  {
   "cell_type": "code",
   "execution_count": 2,
   "metadata": {},
   "outputs": [],
   "source": [
    "lfts_train = pd.read_csv('C:\\\\AADeloitte\\\\learning\\\\Boom\\\\Python Practise files\\\\LFTS\\\\train.csv')\n",
    "lfts_test = pd.read_csv('C:\\\\AADeloitte\\\\learning\\\\Boom\\\\Python Practise files\\\\LFTS\\\\test.csv')\n",
    "\n",
    "lfts_train['source'], lfts_test['source'] = 'train', 'test'\n",
    "\n",
    "data = pd.concat([lfts_train, lfts_test], axis=0, sort=False)"
   ]
  },
  {
   "cell_type": "code",
   "execution_count": 3,
   "metadata": {},
   "outputs": [],
   "source": [
    "# print(data.loan_default.value_counts(dropna= False).div(len(lfts_train)).mul(100))\n",
    "\n",
    "# print(data.shape)\n",
    "\n",
    "# print(data.columns)"
   ]
  },
  {
   "cell_type": "code",
   "execution_count": 4,
   "metadata": {},
   "outputs": [],
   "source": [
    "data.columns = data.columns.str.replace(\".\", \"_\")"
   ]
  },
  {
   "cell_type": "code",
   "execution_count": 5,
   "metadata": {},
   "outputs": [
    {
     "data": {
      "text/plain": [
       "Index(['UniqueID', 'disbursed_amount', 'asset_cost', 'ltv', 'branch_id',\n",
       "       'supplier_id', 'manufacturer_id', 'Current_pincode_ID', 'Date_of_Birth',\n",
       "       'Employment_Type', 'DisbursalDate', 'State_ID', 'Employee_code_ID',\n",
       "       'MobileNo_Avl_Flag', 'Aadhar_flag', 'PAN_flag', 'VoterID_flag',\n",
       "       'Driving_flag', 'Passport_flag', 'PERFORM_CNS_SCORE',\n",
       "       'PERFORM_CNS_SCORE_DESCRIPTION', 'PRI_NO_OF_ACCTS', 'PRI_ACTIVE_ACCTS',\n",
       "       'PRI_OVERDUE_ACCTS', 'PRI_CURRENT_BALANCE', 'PRI_SANCTIONED_AMOUNT',\n",
       "       'PRI_DISBURSED_AMOUNT', 'SEC_NO_OF_ACCTS', 'SEC_ACTIVE_ACCTS',\n",
       "       'SEC_OVERDUE_ACCTS', 'SEC_CURRENT_BALANCE', 'SEC_SANCTIONED_AMOUNT',\n",
       "       'SEC_DISBURSED_AMOUNT', 'PRIMARY_INSTAL_AMT', 'SEC_INSTAL_AMT',\n",
       "       'NEW_ACCTS_IN_LAST_SIX_MONTHS', 'DELINQUENT_ACCTS_IN_LAST_SIX_MONTHS',\n",
       "       'AVERAGE_ACCT_AGE', 'CREDIT_HISTORY_LENGTH', 'NO_OF_INQUIRIES',\n",
       "       'loan_default', 'source'],\n",
       "      dtype='object')"
      ]
     },
     "execution_count": 5,
     "metadata": {},
     "output_type": "execute_result"
    }
   ],
   "source": [
    "data.columns"
   ]
  },
  {
   "cell_type": "code",
   "execution_count": 6,
   "metadata": {},
   "outputs": [],
   "source": [
    "# table = pd.pivot_table(data, index='Employment.Type', values='asset_cost', aggfunc='mean')\n",
    "\n",
    "# def fill_employment(x):\n",
    "    \n",
    "#     if x > table.loc['Salaried'][0]:\n",
    "#         return 'Salaried'\n",
    "#     else:\n",
    "#         return 'Self employed'\n",
    "\n",
    "# data['Employment.Type'].fillna(data['asset_cost'].apply(lambda x: fill_employment(x)), inplace=True)"
   ]
  },
  {
   "cell_type": "code",
   "execution_count": 7,
   "metadata": {},
   "outputs": [
    {
     "name": "stdout",
     "output_type": "stream",
     "text": [
      "Self employed    187429\n",
      "Salaried         147013\n",
      "NaN               11104\n",
      "Name: Employment_Type, dtype: int64\n",
      "Self employed    187429\n",
      "Salaried         147013\n",
      "Unfilled          11104\n",
      "Name: Employment_Type, dtype: int64\n"
     ]
    }
   ],
   "source": [
    "print(data.Employment_Type.value_counts(dropna=False))\n",
    "data.Employment_Type.fillna('Unfilled', inplace=True)\n",
    "print(data.Employment_Type.value_counts(dropna=False))"
   ]
  },
  {
   "cell_type": "code",
   "execution_count": 8,
   "metadata": {},
   "outputs": [],
   "source": [
    "# branch_man_defaults = lfts_train.groupby(['branch_id', 'manufacturer_id'])['loan_default'].sum()"
   ]
  },
  {
   "cell_type": "code",
   "execution_count": 9,
   "metadata": {},
   "outputs": [],
   "source": [
    "# data.join(branch_man,on=['branch_id', 'manufacturer_id'], rsuffix='brn_man_default')"
   ]
  },
  {
   "cell_type": "code",
   "execution_count": 10,
   "metadata": {},
   "outputs": [
    {
     "data": {
      "text/plain": [
       "Slim             192802\n",
       "Great             67263\n",
       "Above Average     57754\n",
       "Below Average     14777\n",
       "Average           12950\n",
       "Name: PERFORM_CNS_SCORE, dtype: int64"
      ]
     },
     "execution_count": 10,
     "metadata": {},
     "output_type": "execute_result"
    }
   ],
   "source": [
    "#using cut to create bin from credit scores\n",
    "\n",
    "data.PERFORM_CNS_SCORE = pd.cut(data.PERFORM_CNS_SCORE, bins=5, labels=['Slim', 'Below Average', 'Average', 'Above Average', 'Great'])\n",
    "data.PERFORM_CNS_SCORE.value_counts(dropna=False)"
   ]
  },
  {
   "cell_type": "code",
   "execution_count": 11,
   "metadata": {},
   "outputs": [],
   "source": [
    "#count of defaults by branch\n",
    "branch_id_defaut_count = dict(data[data.loan_default == 1.0].groupby('branch_id')['loan_default'].count())\n",
    "data['branchwise_defaults'] = data.branch_id.map(branch_id_defaut_count)\n",
    "data.branchwise_defaults.fillna(0, inplace=True)\n",
    "\n",
    "#count of defaults by manufacture\n",
    "manufacture_id_count = dict(data[data['loan_default'] == 1.0].groupby('manufacturer_id')['loan_default'].count())\n",
    "data['manufacturewise_defaults'] = data['manufacturer_id'].map(manufacture_id_count)\n",
    "data.manufacturewise_defaults.fillna(0, inplace=True)\n",
    "\n",
    "#count of defaults by pincode\n",
    "pincode_default_count = dict(data[data['loan_default'] == 1.0].groupby('Current_pincode_ID')['loan_default'].count())\n",
    "data['pincodewise_defaults'] = data['Current_pincode_ID'].map(pincode_default_count)\n",
    "data.pincodewise_defaults.fillna(0, inplace=True)\n",
    "\n",
    "#statewise defaults\n",
    "state_default_count = dict(data[data['loan_default'] == 1.0].groupby('State_ID')['loan_default'].count())\n",
    "data['statewise_defaults'] = data['State_ID'].map(state_default_count)\n",
    "data.statewise_defaults.fillna(0, inplace=True)\n",
    "\n",
    "#employeewise defaults\n",
    "employee_default_count = dict(data[data['loan_default'] == 1.0].groupby('Employee_code_ID')['loan_default'].count())\n",
    "data['employeewise_defaults'] = data['Employee_code_ID'].map(employee_default_count)\n",
    "data.employeewise_defaults.fillna(0, inplace=True)\n",
    "\n",
    "\n",
    "#supplier defaults\n",
    "supplier_default_count = dict(data[data['loan_default'] == 1.0].groupby('supplier_id')['loan_default'].count())\n",
    "data['supplierwise_defaults'] = data['supplier_id'].map(supplier_default_count)\n",
    "data.supplierwise_defaults.fillna(0, inplace=True)"
   ]
  },
  {
   "cell_type": "code",
   "execution_count": 12,
   "metadata": {},
   "outputs": [],
   "source": [
    "#creating average of all ID mean variables\n",
    "\n",
    "branch_default_mean = data.loc[data.loan_default == 1].groupby('branch_id')['loan_default'].count().mean()\n",
    "supplier_default_mean = data.loc[data.loan_default == 1].groupby('supplier_id')['loan_default'].count().mean()\n",
    "manufacturer_default_mean = data.loc[data.loan_default == 1].groupby('manufacturer_id')['loan_default'].count().mean()\n",
    "pincode_default_mean = data.loc[data.loan_default == 1].groupby('Current_pincode_ID')['loan_default'].count().mean()\n",
    "State_default_mean = data.loc[data.loan_default == 1].groupby('State_ID')['loan_default'].count().mean()\n",
    "employee_default_mean = data.loc[data.loan_default == 1].groupby('Employee_code_ID')['loan_default'].count().mean()"
   ]
  },
  {
   "cell_type": "code",
   "execution_count": 13,
   "metadata": {},
   "outputs": [],
   "source": [
    "# data.columns"
   ]
  },
  {
   "cell_type": "code",
   "execution_count": 14,
   "metadata": {},
   "outputs": [],
   "source": [
    "#function to return above average \n",
    "\n",
    "def create_bool(x, mean):\n",
    "    if x > mean:\n",
    "        return 1\n",
    "    else:\n",
    "        return 0"
   ]
  },
  {
   "cell_type": "code",
   "execution_count": 15,
   "metadata": {},
   "outputs": [],
   "source": [
    "data['branch_abv_default'] = data.branchwise_defaults.apply(lambda x: create_bool(x, branch_default_mean))\n",
    "data['supplier_abv_default'] = data.supplierwise_defaults.apply(lambda x: create_bool(x, supplier_default_mean))\n",
    "data['manufacture_abv_default'] = data.manufacturewise_defaults.apply(lambda x: create_bool(x, manufacturer_default_mean))\n",
    "data['pincode_abv_default'] = data.pincodewise_defaults.apply(lambda x: create_bool(x, pincode_default_mean))\n",
    "data['state_abv_default'] = data.statewise_defaults.apply(lambda x: create_bool(x, State_default_mean))\n",
    "data['employee_abv_default'] = data.employeewise_defaults.apply(lambda x: create_bool(x, employee_default_mean))"
   ]
  },
  {
   "cell_type": "code",
   "execution_count": 16,
   "metadata": {},
   "outputs": [],
   "source": [
    "# for i in data.columns[data.columns.str.contains('abv')]:\n",
    "#     print(i)\n",
    "#     print(data[i].isna().sum())\n",
    "#     print(data[i].value_counts())\n",
    "#     print('~~~~~~~~~~~~~~~~~~~')"
   ]
  },
  {
   "cell_type": "code",
   "execution_count": 17,
   "metadata": {},
   "outputs": [],
   "source": [
    "# for i in data.columns[data.columns.str.contains('abv_default')]:\n",
    "#     print(data[i].value_counts(dropna=False))\n",
    "#     print(data[i].value_counts(dropna=False).sum())\n",
    "#     print('~~~~~~~~~~~~~~~~~~~~~~~~~~~~~~~~~~~')"
   ]
  },
  {
   "cell_type": "code",
   "execution_count": 18,
   "metadata": {},
   "outputs": [],
   "source": [
    "#creating the \n",
    "\n",
    "data.Date_of_Birth.head()\n",
    "\n",
    "data['Age'] = 2018 - pd.to_numeric((str(19) + data.Date_of_Birth.str.rpartition('-')[2]))\n",
    "\n",
    "# data.loc[data.Age == 118, 'Age'] = 18\n",
    "data.Age.replace(118, 18, inplace=True)"
   ]
  },
  {
   "cell_type": "code",
   "execution_count": 19,
   "metadata": {},
   "outputs": [
    {
     "name": "stdout",
     "output_type": "stream",
     "text": [
      "18 69\n"
     ]
    }
   ],
   "source": [
    "print(data.Age.min(), data.Age.max())"
   ]
  },
  {
   "cell_type": "code",
   "execution_count": 20,
   "metadata": {},
   "outputs": [
    {
     "data": {
      "text/plain": [
       "18-29    135454\n",
       "30-39    109870\n",
       "40-49     70517\n",
       "50-59     27397\n",
       "60-69      2308\n",
       "Name: Age_group, dtype: int64"
      ]
     },
     "execution_count": 20,
     "metadata": {},
     "output_type": "execute_result"
    }
   ],
   "source": [
    "def get_agegroup(x):\n",
    "    if x >= 18 and x < 30:\n",
    "        return '18-29'\n",
    "    elif x >= 30 and x < 40:\n",
    "        return '30-39'\n",
    "    elif x >= 40 and x < 50:\n",
    "        return '40-49'\n",
    "    elif x >= 50 and x < 60:\n",
    "        return '50-59'\n",
    "    elif x >= 60 and x < 70:\n",
    "        return '60-69'\n",
    "    elif x >= 70 and x < 80:\n",
    "        return '70-79'\n",
    "    else:\n",
    "        return '80+'\n",
    "\n",
    "data['Age_group'] = data.Age.apply(lambda x: get_agegroup(x))\n",
    "\n",
    "data.Age_group.value_counts()"
   ]
  },
  {
   "cell_type": "code",
   "execution_count": 21,
   "metadata": {},
   "outputs": [
    {
     "data": {
      "text/plain": [
       "0    03-08-18\n",
       "1    26-09-18\n",
       "2    01-08-18\n",
       "3    26-10-18\n",
       "4    26-09-18\n",
       "5    19-09-18\n",
       "6    23-09-18\n",
       "7    16-09-18\n",
       "8    05-09-18\n",
       "9    16-09-18\n",
       "Name: DisbursalDate, dtype: object"
      ]
     },
     "execution_count": 21,
     "metadata": {},
     "output_type": "execute_result"
    }
   ],
   "source": [
    "data.DisbursalDate.head(10)"
   ]
  },
  {
   "cell_type": "code",
   "execution_count": 22,
   "metadata": {},
   "outputs": [],
   "source": [
    "data['DisbursalDate'] = pd.to_datetime(data.DisbursalDate, dayfirst=True, format='%d-%m-%y')\n",
    "\n",
    "data['Disbursal_day'] = data.DisbursalDate.dt.day\n",
    "data['Disbursal_weekday'] = data.DisbursalDate.dt.weekday\n",
    "data['Disbursal_week'] = data.DisbursalDate.dt.week\n",
    "data['Disbursal_month'] = data.DisbursalDate.dt.month\n",
    "data['Disbursal_quarter'] = data.DisbursalDate.dt.quarter"
   ]
  },
  {
   "cell_type": "code",
   "execution_count": 24,
   "metadata": {},
   "outputs": [],
   "source": [
    "# data[data.loan_default == 0].groupby('Disbursal_day')['loan_default'].count().plot.barh()"
   ]
  },
  {
   "cell_type": "code",
   "execution_count": 25,
   "metadata": {},
   "outputs": [],
   "source": [
    "data.loc[data['PERFORM_CNS_SCORE_DESCRIPTION'].str.contains(r'No'), 'PERFORM_CNS_SCORE_DESCRIPTION'] = 'No Information'\n",
    "\n",
    "data.loc[data['PERFORM_CNS_SCORE_DESCRIPTION'].str.contains(r'Very Low'), 'PERFORM_CNS_SCORE_DESCRIPTION'] = 'Lowest Risk'\n",
    "\n",
    "data.loc[data['PERFORM_CNS_SCORE_DESCRIPTION'].str.contains(r'Low Risk'), 'PERFORM_CNS_SCORE_DESCRIPTION'] = 'Low Risk'\n",
    "\n",
    "data.loc[data['PERFORM_CNS_SCORE_DESCRIPTION'].str.contains(r'Medium Risk'), 'PERFORM_CNS_SCORE_DESCRIPTION'] = 'Medium Risk'\n",
    "\n",
    "data.loc[data['PERFORM_CNS_SCORE_DESCRIPTION'].str.contains(r'Very High'), 'PERFORM_CNS_SCORE_DESCRIPTION'] = 'Highest Risk'\n",
    "\n",
    "data.loc[data['PERFORM_CNS_SCORE_DESCRIPTION'].str.contains(r'High Risk'), 'PERFORM_CNS_SCORE_DESCRIPTION'] = 'High Risk'"
   ]
  },
  {
   "cell_type": "code",
   "execution_count": 26,
   "metadata": {},
   "outputs": [
    {
     "data": {
      "text/plain": [
       "No Information    192802\n",
       "Lowest Risk        75721\n",
       "Low Risk           26364\n",
       "Medium Risk        18402\n",
       "High Risk          17667\n",
       "Highest Risk       14590\n",
       "Name: PERFORM_CNS_SCORE_DESCRIPTION, dtype: int64"
      ]
     },
     "execution_count": 26,
     "metadata": {},
     "output_type": "execute_result"
    }
   ],
   "source": [
    "data.PERFORM_CNS_SCORE_DESCRIPTION.value_counts(dropna=False)"
   ]
  },
  {
   "cell_type": "code",
   "execution_count": 27,
   "metadata": {},
   "outputs": [
    {
     "data": {
      "text/plain": [
       "0     [0yrs, 0mon]\n",
       "1    [1yrs, 11mon]\n",
       "2     [0yrs, 0mon]\n",
       "3     [0yrs, 8mon]\n",
       "4     [0yrs, 0mon]\n",
       "Name: AVERAGE_ACCT_AGE, dtype: object"
      ]
     },
     "execution_count": 27,
     "metadata": {},
     "output_type": "execute_result"
    }
   ],
   "source": [
    "data['AVERAGE_ACCT_AGE'][:5].str.split()"
   ]
  },
  {
   "cell_type": "code",
   "execution_count": 28,
   "metadata": {},
   "outputs": [],
   "source": [
    "data['Acct_age_years'] = [int(re.sub(pattern=r'yrs', repl='', string=x))*12 for x in data.AVERAGE_ACCT_AGE.str.rpartition(' ')[0]]\n",
    "data['Acct_age_months'] = [int(re.sub(pattern=r'mon', repl='', string= x)) for x in data.AVERAGE_ACCT_AGE.str.rpartition(' ')[2]]"
   ]
  },
  {
   "cell_type": "code",
   "execution_count": 29,
   "metadata": {},
   "outputs": [],
   "source": [
    "data['Acct_age_in_months'] = data['Acct_age_years'].add(data.Acct_age_months)"
   ]
  },
  {
   "cell_type": "code",
   "execution_count": 30,
   "metadata": {},
   "outputs": [],
   "source": [
    "def get_year(x):\n",
    "    \n",
    "    if x > 0 and x <=12:\n",
    "        return 'Below 1 year'\n",
    "    elif x > 12 and x <= 36:\n",
    "        return 'Between 1 and 3 years'\n",
    "    elif x > 36 and x <= 60:\n",
    "        return 'Betweem 3 and 5 years'\n",
    "    elif x > 60 and x < 120:\n",
    "        return 'Between 5 to 10 years'\n",
    "    elif x > 120 and x < 180:\n",
    "        return 'Between 10 and 15 years'\n",
    "    elif x > 180:\n",
    "        return 'Above 15 years'\n",
    "    else:\n",
    "        return 'Zero'"
   ]
  },
  {
   "cell_type": "code",
   "execution_count": 31,
   "metadata": {},
   "outputs": [
    {
     "data": {
      "text/plain": [
       "Zero                       177502\n",
       "Below 1 year                79802\n",
       "Between 1 and 3 years       69935\n",
       "Betweem 3 and 5 years       13239\n",
       "Between 5 to 10 years        4583\n",
       "Between 10 and 15 years       460\n",
       "Above 15 years                 25\n",
       "Name: Acct_year_cat, dtype: int64"
      ]
     },
     "execution_count": 31,
     "metadata": {},
     "output_type": "execute_result"
    }
   ],
   "source": [
    "data['Acct_year_cat'] = data.Acct_age_in_months.apply(lambda x: get_year(x))\n",
    "data.Acct_year_cat.value_counts(dropna=False)"
   ]
  },
  {
   "cell_type": "code",
   "execution_count": 32,
   "metadata": {},
   "outputs": [],
   "source": [
    "data['Cred_age_years'] = [int(re.sub(pattern=r'yrs', repl='', string=x))*12 for x in data.CREDIT_HISTORY_LENGTH.str.rpartition(' ')[0]]\n",
    "data['Cred_age_months'] = [int(re.sub(pattern=r'mon', repl='', string= x)) for x in data.CREDIT_HISTORY_LENGTH.str.rpartition(' ')[2]]"
   ]
  },
  {
   "cell_type": "code",
   "execution_count": 33,
   "metadata": {},
   "outputs": [],
   "source": [
    "data['Credit_history_tenure'] = data.Cred_age_years + data.Cred_age_months"
   ]
  },
  {
   "cell_type": "code",
   "execution_count": 34,
   "metadata": {},
   "outputs": [],
   "source": [
    "data['Credit_history_tenure_cat'] = data.Credit_history_tenure.apply(lambda x: get_year(x))"
   ]
  },
  {
   "cell_type": "code",
   "execution_count": 35,
   "metadata": {},
   "outputs": [],
   "source": [
    "# data[data.loan_default == 1].groupby('Credit_history_tenure_cat')['loan_default'].count().plot.barh()"
   ]
  },
  {
   "cell_type": "code",
   "execution_count": 36,
   "metadata": {},
   "outputs": [],
   "source": [
    "data['TOT_NO_OF_ACCTS'] = data.PRI_NO_OF_ACCTS + data.SEC_NO_OF_ACCTS\n",
    "data['TOT_ACTIVE_ACCTS'] = data.PRI_ACTIVE_ACCTS + data.SEC_ACTIVE_ACCTS\n",
    "data['TOT_OVERDUE_ACCTS'] = data.PRI_OVERDUE_ACCTS + data.SEC_OVERDUE_ACCTS\n",
    "data['TOT_CURRENT_BALANCE'] = data.PRI_CURRENT_BALANCE + data.SEC_CURRENT_BALANCE\n",
    "data['TOT_DISBURSED_AMOUNT'] = data.PRI_DISBURSED_AMOUNT + data.SEC_DISBURSED_AMOUNT\n",
    "data['TOT_SANCTIONED_AMOUNT'] = data.PRI_SANCTIONED_AMOUNT + data.SEC_SANCTIONED_AMOUNT\n",
    "data['TOT_INSTAL_AMT'] = data.PRIMARY_INSTAL_AMT + data.SEC_INSTAL_AMT"
   ]
  },
  {
   "cell_type": "code",
   "execution_count": 37,
   "metadata": {},
   "outputs": [],
   "source": [
    "data['PRI_MINUS_SEC_NO_OF_ACCTS'] = data.PRI_NO_OF_ACCTS - data.SEC_NO_OF_ACCTS\n",
    "data['PRI_MINUS_SEC_ACTIVE_ACCTS'] = data.PRI_ACTIVE_ACCTS - data.SEC_ACTIVE_ACCTS\n",
    "data['PRI_MINUS_SEC_OVERDUE_ACCTS'] = data.PRI_OVERDUE_ACCTS - data.SEC_OVERDUE_ACCTS\n",
    "data['PRI_MINUS_SEC_CURRENT_BALANCE'] = data.PRI_CURRENT_BALANCE - data.SEC_CURRENT_BALANCE\n",
    "data['PRI_MINUS_SEC_DISBURSED_AMOUNT'] = data.PRI_DISBURSED_AMOUNT - data.SEC_DISBURSED_AMOUNT\n",
    "data['PRI_MINUS_SEC_SANCTIONED_AMOUNT'] = data.PRI_SANCTIONED_AMOUNT - data.SEC_SANCTIONED_AMOUNT\n",
    "data['PRI_MINUS_SEC_INSTAL_AMT'] = data.PRIMARY_INSTAL_AMT - data.SEC_INSTAL_AMT"
   ]
  },
  {
   "cell_type": "code",
   "execution_count": 38,
   "metadata": {},
   "outputs": [],
   "source": [
    "dis_age_mean = dict(data.groupby('Age_group')['disbursed_amount'].mean())"
   ]
  },
  {
   "cell_type": "code",
   "execution_count": 39,
   "metadata": {},
   "outputs": [],
   "source": [
    "data['disbursed_mean_by_age'] = data.Age_group.map(dis_age_mean)"
   ]
  },
  {
   "cell_type": "code",
   "execution_count": 40,
   "metadata": {},
   "outputs": [],
   "source": [
    "data['ltv_cat'] = pd.cut(data.ltv, bins=3, labels=['Low', 'Medium', 'High'])"
   ]
  },
  {
   "cell_type": "code",
   "execution_count": 41,
   "metadata": {},
   "outputs": [],
   "source": [
    "data['disbursed_by_asset_cost'] = (data.disbursed_amount.div(data['asset_cost'])*100)"
   ]
  },
  {
   "cell_type": "code",
   "execution_count": 42,
   "metadata": {},
   "outputs": [],
   "source": [
    "data['disbursed_mean_by_branch'] = data.groupby('branch_id')['disbursed_amount'].mean()"
   ]
  },
  {
   "cell_type": "code",
   "execution_count": 43,
   "metadata": {},
   "outputs": [],
   "source": [
    "def get_overdue(x):\n",
    "    if x > 0 and x <= 2:\n",
    "        return 'Low'\n",
    "    elif x > 2 and x <= 6:\n",
    "        return 'Medium'\n",
    "    elif x > 6 and x <= 11:\n",
    "        return \"High\"\n",
    "    elif x > 11 and x <= 19:\n",
    "        return \"Alarming\"\n",
    "    elif x ==0:\n",
    "        return 'No defaults'\n",
    "    else:\n",
    "        return \"Highly Risky/Fraud\""
   ]
  },
  {
   "cell_type": "code",
   "execution_count": 44,
   "metadata": {},
   "outputs": [],
   "source": [
    "data['TOT_OVERDUE_ACCTS_CAT'] = data.TOT_OVERDUE_ACCTS.apply(get_overdue)\n",
    "\n",
    "data['PRI_OVERDUE_ACCTS_CAT'] = data.PRI_OVERDUE_ACCTS.apply(get_overdue)\n",
    "\n",
    "data['SEC_OVERDUE_ACCTS_CAT'] = data.SEC_OVERDUE_ACCTS.apply(get_overdue)"
   ]
  },
  {
   "cell_type": "code",
   "execution_count": 45,
   "metadata": {},
   "outputs": [],
   "source": [
    "def get_loan_brackets(x):\n",
    "    if x >= 0 and x <= 7:\n",
    "        return \"Low\"\n",
    "    elif x > 7 and x <= 23:\n",
    "        return \"Medium\"\n",
    "    elif x > 23 and x <= 48:\n",
    "        return \"High\"\n",
    "    elif x > 48 and x <= 90:\n",
    "        return \"Alarming\"\n",
    "    else:\n",
    "        return \"Fraud\""
   ]
  },
  {
   "cell_type": "code",
   "execution_count": 46,
   "metadata": {},
   "outputs": [
    {
     "data": {
      "text/plain": [
       "Low         313342\n",
       "Medium       28995\n",
       "High          2875\n",
       "Alarming       299\n",
       "Fraud           35\n",
       "Name: TOT_NO_OF_ACCTS_CAT, dtype: int64"
      ]
     },
     "execution_count": 46,
     "metadata": {},
     "output_type": "execute_result"
    }
   ],
   "source": [
    "data['TOT_NO_OF_ACCTS_CAT'] = data['TOT_NO_OF_ACCTS'].apply(lambda x: get_loan_brackets(x))\n",
    "data['TOT_NO_OF_ACCTS_CAT'].value_counts(dropna=False)"
   ]
  },
  {
   "cell_type": "code",
   "execution_count": 47,
   "metadata": {},
   "outputs": [],
   "source": [
    "TOT_Bool = (data['TOT_NO_OF_ACCTS'] != 0) & (data['TOT_ACTIVE_ACCTS'] != 0)"
   ]
  },
  {
   "cell_type": "code",
   "execution_count": 48,
   "metadata": {},
   "outputs": [],
   "source": [
    "data.loc[TOT_Bool, 'percentage_accts_active'] = data.loc[TOT_Bool, 'TOT_ACTIVE_ACCTS'].div(data.loc[TOT_Bool, 'TOT_NO_OF_ACCTS'])\n",
    "data['percentage_accts_active'].fillna(0, inplace=True)"
   ]
  },
  {
   "cell_type": "code",
   "execution_count": 49,
   "metadata": {},
   "outputs": [],
   "source": [
    "def perc_closed(x):\n",
    "    if x >= 0.0 and x < 0.25:\n",
    "        return 'Below 25'\n",
    "    elif x >= 0.25 and x < 0.50:\n",
    "        return 'Between 25 and 50'\n",
    "    elif x >= 0.50 and x < 0.75:\n",
    "        return 'Between 50 and 75'\n",
    "    elif x >= 0.75 and x <= 1.0:\n",
    "        return 'Above 75'\n",
    "    else:\n",
    "        return 'Above 75'"
   ]
  },
  {
   "cell_type": "code",
   "execution_count": 50,
   "metadata": {},
   "outputs": [],
   "source": [
    "data['percentage_accts_active'] = data.percentage_accts_active.apply(lambda x: perc_closed(x))"
   ]
  },
  {
   "cell_type": "code",
   "execution_count": 51,
   "metadata": {},
   "outputs": [],
   "source": [
    "data['tot_accts_closed'] = data.TOT_NO_OF_ACCTS.sub(data.TOT_ACTIVE_ACCTS)"
   ]
  },
  {
   "cell_type": "code",
   "execution_count": 52,
   "metadata": {},
   "outputs": [],
   "source": [
    "tot_slice = (data.TOT_NO_OF_ACCTS != 0) & (data.tot_accts_closed != 0)"
   ]
  },
  {
   "cell_type": "code",
   "execution_count": 53,
   "metadata": {},
   "outputs": [],
   "source": [
    "data.loc[tot_slice, 'percentage_accts_closed'] = data.loc[tot_slice, 'tot_accts_closed'].div(data.loc[tot_slice, 'TOT_NO_OF_ACCTS'])\n",
    "data['percentage_accts_closed'].fillna(0, inplace=True)"
   ]
  },
  {
   "cell_type": "code",
   "execution_count": 54,
   "metadata": {},
   "outputs": [],
   "source": [
    "data['percentage_accts_closed'] = data.percentage_accts_closed.apply(lambda x: perc_closed(x))"
   ]
  },
  {
   "cell_type": "code",
   "execution_count": 55,
   "metadata": {},
   "outputs": [],
   "source": [
    "overdue_slice = (data['TOT_NO_OF_ACCTS'] != 0) & (data['TOT_OVERDUE_ACCTS'] != 0)"
   ]
  },
  {
   "cell_type": "code",
   "execution_count": 56,
   "metadata": {},
   "outputs": [],
   "source": [
    "data.loc[overdue_slice, 'percentage_overdue'] = data.loc[overdue_slice, 'TOT_OVERDUE_ACCTS'].div(data.loc[overdue_slice, 'TOT_NO_OF_ACCTS'])\n",
    "data.percentage_overdue.fillna(0, inplace=True)"
   ]
  },
  {
   "cell_type": "code",
   "execution_count": 57,
   "metadata": {},
   "outputs": [],
   "source": [
    "data.percentage_overdue = data.percentage_overdue.apply(lambda x: perc_closed(x))"
   ]
  },
  {
   "cell_type": "code",
   "execution_count": 58,
   "metadata": {},
   "outputs": [
    {
     "data": {
      "text/plain": [
       "Below 25             321473\n",
       "Between 25 and 50      9546\n",
       "Above 75               7573\n",
       "Between 50 and 75      6954\n",
       "Name: percentage_overdue, dtype: int64"
      ]
     },
     "execution_count": 58,
     "metadata": {},
     "output_type": "execute_result"
    }
   ],
   "source": [
    "data.percentage_overdue.value_counts(dropna = False)"
   ]
  },
  {
   "cell_type": "code",
   "execution_count": 59,
   "metadata": {},
   "outputs": [],
   "source": [
    "del_slice = (data['NEW_ACCTS_IN_LAST_SIX_MONTHS'] != 0) & (data['DELINQUENT_ACCTS_IN_LAST_SIX_MONTHS'] != 0)"
   ]
  },
  {
   "cell_type": "code",
   "execution_count": 60,
   "metadata": {},
   "outputs": [],
   "source": [
    "data.loc[del_slice, 'del_new_percentage'] = data.loc[del_slice, 'DELINQUENT_ACCTS_IN_LAST_SIX_MONTHS'].div(data.loc[del_slice, 'NEW_ACCTS_IN_LAST_SIX_MONTHS'])\n",
    "data['del_new_percentage'].fillna(0, inplace=True)"
   ]
  },
  {
   "cell_type": "code",
   "execution_count": 61,
   "metadata": {},
   "outputs": [
    {
     "data": {
      "text/plain": [
       "Below 25             333568\n",
       "Above 75               7727\n",
       "Between 50 and 75      2691\n",
       "Between 25 and 50      1560\n",
       "Name: del_new_percentage, dtype: int64"
      ]
     },
     "execution_count": 61,
     "metadata": {},
     "output_type": "execute_result"
    }
   ],
   "source": [
    "data.del_new_percentage = data.del_new_percentage.apply(lambda x: perc_closed(x))\n",
    "data.del_new_percentage.value_counts(dropna=False)"
   ]
  },
  {
   "cell_type": "code",
   "execution_count": 62,
   "metadata": {},
   "outputs": [],
   "source": [
    "# data.del_new_percentage.value_counts(dropna=False).plot.barh()"
   ]
  },
  {
   "cell_type": "code",
   "execution_count": 63,
   "metadata": {},
   "outputs": [],
   "source": [
    "def get_enquiries(x):\n",
    "    if x >= 0 and x < 5:\n",
    "        return 'Low'\n",
    "    elif x >= 5 and x < 10:\n",
    "        return 'Medium'\n",
    "    elif x >= 10 and x < 15:\n",
    "        return 'High'\n",
    "    elif x >= 15 and x < 20:\n",
    "        return 'Very high'\n",
    "    else:\n",
    "        return 'Desperate'"
   ]
  },
  {
   "cell_type": "code",
   "execution_count": 64,
   "metadata": {},
   "outputs": [
    {
     "data": {
      "text/plain": [
       "Low          344063\n",
       "Medium         1311\n",
       "High            130\n",
       "Very high        31\n",
       "Desperate        11\n",
       "Name: NO_OF_INQUIRIES, dtype: int64"
      ]
     },
     "execution_count": 64,
     "metadata": {},
     "output_type": "execute_result"
    }
   ],
   "source": [
    "data['NO_OF_INQUIRIES'] = data['NO_OF_INQUIRIES'].apply(lambda x: get_enquiries(x))\n",
    "data.NO_OF_INQUIRIES.value_counts(dropna=False)"
   ]
  },
  {
   "cell_type": "code",
   "execution_count": 65,
   "metadata": {},
   "outputs": [],
   "source": [
    "# data.drop(['PRI.NO.OF.ACCTS', 'PRI.ACTIVE.ACCTS','PRI.OVERDUE.ACCTS', 'PRI.CURRENT.BALANCE', 'PRI.SANCTIONED.AMOUNT','PRI.DISBURSED.AMOUNT'\n",
    "#            , 'SEC.NO.OF.ACCTS', 'SEC.ACTIVE.ACCTS','SEC.OVERDUE.ACCTS', 'SEC.CURRENT.BALANCE', 'SEC.SANCTIONED.AMOUNT','SEC.DISBURSED.AMOUNT'\n",
    "#            , 'PRIMARY.INSTAL.AMT', 'SEC.INSTAL.AMT', 'branchwise_defaults','manufacturewise_defaults', 'pincodewise_defaults'\n",
    "#            , 'statewise_defaults', 'employeewise_defaults', 'supplierwise_defaults', 'Acc_age_yrs', 'Acc_age_mnths', 'Cred_age_yrs', 'Cred_age_mnths'\n",
    "#            , 'Date.of.Birth', 'DisbursalDate', 'NEW.ACCTS.IN.LAST.SIX.MONTHS','DELINQUENT.ACCTS.IN.LAST.SIX.MONTHS', 'AVERAGE.ACCT.AGE'\n",
    "#            ,'CREDIT.HISTORY.LENGTH', 'TOT.NO.OF.ACCTS', 'TOT.ACTIVE.ACCTS', 'TOT.OVERDUE.ACCTS', 'tot_accts_closed'], axis=1, inplace=True)\n",
    "\n",
    "#  object_cols = ['Employment.Type', 'MobileNo_Avl_Flag', 'Aadhar_flag', 'PAN_flag', 'VoterID_flag', 'Driving_flag','Passport_flag'\n",
    "#                , 'PERFORM_CNS.SCORE.DESCRIPTION', 'NO.OF_INQUIRIES', 'branch_abv_default', 'supplier_abv_default', 'manufacture_abv_default'\n",
    "#                , 'pincode_abv_default', 'State_abv_default', 'employee_abv_default','Age', 'disbursal_week', 'Loan_tenure_length', 'Credit_history_tenure', 'TOT.NO.OF.ACCTS.CAT'\n",
    "#                , 'TOT.OVERDUE.ACCTS.CAT', 'percentage_accts_active', 'percentage_accts_closed', 'percentage_overdue'\n",
    "#                , 'del_new_percentage']"
   ]
  },
  {
   "cell_type": "code",
   "execution_count": 66,
   "metadata": {},
   "outputs": [],
   "source": [
    "cols_to_drop = ['UniqueID', 'Date_of_Birth', 'DisbursalDate', 'MobileNo_Avl_Flag', 'AVERAGE_ACCT_AGE', 'CREDIT_HISTORY_LENGTH', 'Acct_age_years', 'Acct_age_months'\n",
    " , 'Cred_age_years', 'Cred_age_months', 'Age', 'PRI_NO_OF_ACCTS', 'PRI_ACTIVE_ACCTS','PRI_OVERDUE_ACCTS', 'PRI_CURRENT_BALANCE'\n",
    "                , 'PRI_SANCTIONED_AMOUNT', 'PRI_DISBURSED_AMOUNT', 'SEC_NO_OF_ACCTS', 'SEC_ACTIVE_ACCTS','SEC_OVERDUE_ACCTS', 'SEC_CURRENT_BALANCE'\n",
    "                , 'SEC_SANCTIONED_AMOUNT','SEC_DISBURSED_AMOUNT', 'PRIMARY_INSTAL_AMT', 'SEC_INSTAL_AMT']"
   ]
  },
  {
   "cell_type": "code",
   "execution_count": 67,
   "metadata": {},
   "outputs": [],
   "source": [
    "# data.drop(['PRI_NO_OF_ACCTS', 'PRI_ACTIVE_ACCTS','PRI_OVERDUE_ACCTS', 'PRI_CURRENT_BALANCE', 'PRI_SANCTIONED_AMOUNT', 'PRI_DISBURSED_AMOUNT'\n",
    "#            , 'SEC_NO_OF_ACCTS', 'SEC_ACTIVE_ACCTS','SEC_OVERDUE_ACCTS', 'SEC_CURRENT_BALANCE', 'SEC_SANCTIONED_AMOUNT','SEC_DISBURSED_AMOUNT'\n",
    "#            , 'PRIMARY_INSTAL_AMT', 'SEC_INSTAL_AMT'], axis=1, inplace=True)"
   ]
  },
  {
   "cell_type": "code",
   "execution_count": 68,
   "metadata": {},
   "outputs": [],
   "source": [
    "data.drop(cols_to_drop, axis=1, inplace=True)"
   ]
  },
  {
   "cell_type": "code",
   "execution_count": 69,
   "metadata": {},
   "outputs": [
    {
     "name": "stdout",
     "output_type": "stream",
     "text": [
      "69\n"
     ]
    },
    {
     "data": {
      "text/plain": [
       "Index(['disbursed_amount', 'asset_cost', 'ltv', 'branch_id', 'supplier_id',\n",
       "       'manufacturer_id', 'Current_pincode_ID', 'Employment_Type', 'State_ID',\n",
       "       'Employee_code_ID', 'Aadhar_flag', 'PAN_flag', 'VoterID_flag',\n",
       "       'Driving_flag', 'Passport_flag', 'PERFORM_CNS_SCORE',\n",
       "       'PERFORM_CNS_SCORE_DESCRIPTION', 'NEW_ACCTS_IN_LAST_SIX_MONTHS',\n",
       "       'DELINQUENT_ACCTS_IN_LAST_SIX_MONTHS', 'NO_OF_INQUIRIES',\n",
       "       'loan_default', 'source', 'branchwise_defaults',\n",
       "       'manufacturewise_defaults', 'pincodewise_defaults',\n",
       "       'statewise_defaults', 'employeewise_defaults', 'supplierwise_defaults',\n",
       "       'branch_abv_default', 'supplier_abv_default', 'manufacture_abv_default',\n",
       "       'pincode_abv_default', 'state_abv_default', 'employee_abv_default',\n",
       "       'Age_group', 'Disbursal_day', 'Disbursal_weekday', 'Disbursal_week',\n",
       "       'Disbursal_month', 'Disbursal_quarter', 'Acct_age_in_months',\n",
       "       'Acct_year_cat', 'Credit_history_tenure', 'Credit_history_tenure_cat',\n",
       "       'TOT_NO_OF_ACCTS', 'TOT_ACTIVE_ACCTS', 'TOT_OVERDUE_ACCTS',\n",
       "       'TOT_CURRENT_BALANCE', 'TOT_DISBURSED_AMOUNT', 'TOT_SANCTIONED_AMOUNT',\n",
       "       'TOT_INSTAL_AMT', 'PRI_MINUS_SEC_NO_OF_ACCTS',\n",
       "       'PRI_MINUS_SEC_ACTIVE_ACCTS', 'PRI_MINUS_SEC_OVERDUE_ACCTS',\n",
       "       'PRI_MINUS_SEC_CURRENT_BALANCE', 'PRI_MINUS_SEC_DISBURSED_AMOUNT',\n",
       "       'PRI_MINUS_SEC_SANCTIONED_AMOUNT', 'PRI_MINUS_SEC_INSTAL_AMT',\n",
       "       'disbursed_mean_by_age', 'ltv_cat', 'disbursed_by_asset_cost',\n",
       "       'disbursed_mean_by_branch', 'TOT_OVERDUE_ACCTS_CAT',\n",
       "       'PRI_OVERDUE_ACCTS_CAT', 'SEC_OVERDUE_ACCTS_CAT', 'TOT_NO_OF_ACCTS_CAT',\n",
       "       'percentage_accts_active', 'tot_accts_closed',\n",
       "       'percentage_accts_closed', 'percentage_overdue', 'del_new_percentage'],\n",
       "      dtype='object')"
      ]
     },
     "execution_count": 69,
     "metadata": {},
     "output_type": "execute_result"
    }
   ],
   "source": [
    "print(len(data.columns)-2)\n",
    "data.columns"
   ]
  },
  {
   "cell_type": "code",
   "execution_count": 70,
   "metadata": {},
   "outputs": [],
   "source": [
    "data['TOT_INSTAL_AMT_CAT'] = pd.qcut(data.TOT_INSTAL_AMT, q = [.5, .75, .99, .995, 1.], labels=['Lowest', 'Low', 'Medium', 'High'],duplicates='drop')"
   ]
  },
  {
   "cell_type": "code",
   "execution_count": 71,
   "metadata": {},
   "outputs": [],
   "source": [
    "categorical_cols = ['branch_id', 'manufacturer_id', 'Employment_Type', 'State_ID','Employee_code_ID', 'Aadhar_flag'\n",
    "                    , 'PAN_flag', 'VoterID_flag', 'Driving_flag', 'Passport_flag', 'PERFORM_CNS_SCORE_DESCRIPTION','branch_abv_default'\n",
    "                    , 'supplier_abv_default', 'manufacture_abv_default', 'pincode_abv_default', 'state_abv_default', 'employee_abv_default'\n",
    "                   , 'Age_group', 'Disbursal_day', 'Disbursal_weekday', 'Disbursal_week', 'Disbursal_month', 'Disbursal_quarter', 'Acct_year_cat'\n",
    "                    , 'Credit_history_tenure_cat', 'ltv_cat', 'TOT_OVERDUE_ACCTS_CAT','PRI_OVERDUE_ACCTS_CAT', 'SEC_OVERDUE_ACCTS_CAT'\n",
    "                    , 'TOT_NO_OF_ACCTS_CAT', 'TOT_INSTAL_AMT_CAT']"
   ]
  },
  {
   "cell_type": "code",
   "execution_count": 72,
   "metadata": {},
   "outputs": [],
   "source": [
    "# scaler = StandardScaler()\n",
    "\n",
    "# data[numeric_cols] = scaler.fit_transform(data[numeric_cols])\n",
    "\n",
    "# data[object_cols].head()\n",
    "\n",
    "# dummies = pd.get_dummies(data[object_cols], drop_first=True)\n",
    "\n",
    "# df = pd.concat([data, dummies], axis=1)\n",
    "\n",
    "# df.drop(object_cols, axis=1, inplace=True)\n",
    "\n",
    "# df.columns"
   ]
  },
  {
   "cell_type": "code",
   "execution_count": 74,
   "metadata": {},
   "outputs": [],
   "source": [
    "train, test = data[data.source == 'train'], data[data.source == 'test']"
   ]
  },
  {
   "cell_type": "code",
   "execution_count": 75,
   "metadata": {},
   "outputs": [
    {
     "name": "stderr",
     "output_type": "stream",
     "text": [
      "C:\\Users\\mjazeel\\AppData\\Local\\Continuum\\anaconda3\\lib\\site-packages\\pandas\\core\\frame.py:3940: SettingWithCopyWarning: \n",
      "A value is trying to be set on a copy of a slice from a DataFrame\n",
      "\n",
      "See the caveats in the documentation: http://pandas.pydata.org/pandas-docs/stable/indexing.html#indexing-view-versus-copy\n",
      "  errors=errors)\n"
     ]
    }
   ],
   "source": [
    "train.drop('source', axis=1, inplace=True)"
   ]
  },
  {
   "cell_type": "code",
   "execution_count": 76,
   "metadata": {},
   "outputs": [],
   "source": [
    "predictors, target = train.drop('loan_default', axis=1), train.loan_default.astype(int)"
   ]
  },
  {
   "cell_type": "code",
   "execution_count": null,
   "metadata": {},
   "outputs": [],
   "source": [
    "# target.astype(int)"
   ]
  },
  {
   "cell_type": "code",
   "execution_count": null,
   "metadata": {},
   "outputs": [],
   "source": [
    "categorical_indices = np.where(predictors.dtypes == 'object')[0]\n",
    "print(predictors.columns[categorical_indices])\n",
    "len(categorical_indices)\n",
    "categorical_indices"
   ]
  },
  {
   "cell_type": "code",
   "execution_count": null,
   "metadata": {},
   "outputs": [],
   "source": [
    "for i in predictors.columns[categorical_indices]:\n",
    "    print(i)\n",
    "    print(predictors[i].value_counts(dropna=False))\n",
    "    print(\"!!!!!!!!!!!!!!!!!!!!!!!!!!!!\")"
   ]
  },
  {
   "cell_type": "code",
   "execution_count": 77,
   "metadata": {},
   "outputs": [],
   "source": [
    "X, y = predictors.values, target.values"
   ]
  },
  {
   "cell_type": "code",
   "execution_count": 78,
   "metadata": {},
   "outputs": [],
   "source": [
    "X_train, X_test, y_train, y_test = train_test_split(X, y, test_size=0.2, random_state=1994, stratify= target)"
   ]
  },
  {
   "cell_type": "code",
   "execution_count": null,
   "metadata": {},
   "outputs": [],
   "source": [
    "# GBC_clf = GradientBoostingClassifier()\n",
    "\n",
    "# RF_clf = RandomForestClassifier(n_estimators=100, n_jobs=-1)\n",
    "\n",
    "# RF_clf.fit(X_train, y_train)\n",
    "\n",
    "# RF_pred = RF_clf.predict(X_test)\n",
    "\n",
    "# accuracy_score(y_test, RF_pred)\n",
    "\n",
    "# f1_score(y_test, RF_pred)\n",
    "\n",
    "# confusion_matrix(y_test, RF_pred)"
   ]
  },
  {
   "cell_type": "code",
   "execution_count": 80,
   "metadata": {},
   "outputs": [],
   "source": [
    "from lightgbm import LGBMClassifier, plot_importance\n",
    "\n",
    "lgbm_clf = LGBMClassifier()\n",
    "\n",
    "lgbm_clf.fit(X_train, y_train)\n",
    "\n",
    "# plt.figure(figsize=(48, 48))\n",
    "# plot_importance(lgbm_clf)\n",
    "\n",
    "lgbm_pred = lgbm_clf.predict(X)\n",
    "\n",
    "accuracy_score(y, lgbm_pred)\n",
    "\n",
    "f1_score(y, lgbm_pred)"
   ]
  },
  {
   "cell_type": "code",
   "execution_count": null,
   "metadata": {},
   "outputs": [],
   "source": [
    "# from xgboost import XGBClassifier\n",
    "\n",
    "# xgb_clf = XGBClassifier(n_estimators=500, n_jobs=-1)\n",
    "\n",
    "# xgb_clf.fit(X_train, y_train)\n",
    "\n",
    "# xgb_pred = xgb_clf.predict(X_test)\n",
    "\n",
    "# accuracy_score(y_test, xgb_pred)\n",
    "\n",
    "# xgb_test = xgb_clf.predict(test)\n",
    "\n",
    "# sv_clf = SVC()\n",
    "\n",
    "# sv_clf.fit(X_train, y_train)\n",
    "\n",
    "# sv_pred = sv_clf.predict(X_test)\n",
    "# accuracy(y_test, sv_pred)"
   ]
  },
  {
   "cell_type": "code",
   "execution_count": null,
   "metadata": {},
   "outputs": [],
   "source": []
  }
 ],
 "metadata": {
  "kernelspec": {
   "display_name": "Python 3",
   "language": "python",
   "name": "python3"
  },
  "language_info": {
   "codemirror_mode": {
    "name": "ipython",
    "version": 3
   },
   "file_extension": ".py",
   "mimetype": "text/x-python",
   "name": "python",
   "nbconvert_exporter": "python",
   "pygments_lexer": "ipython3",
   "version": "3.7.3"
  }
 },
 "nbformat": 4,
 "nbformat_minor": 2
}
